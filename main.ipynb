{
 "cells": [
  {
   "cell_type": "code",
   "execution_count": null,
   "metadata": {},
   "outputs": [],
   "source": [
    "import pandas as pd\n",
    "\n",
    "file_path = 'winemag-data-130k-v2.csv'\n",
    "wine_data = pd.read_csv(file_path)\n",
    "\n",
    "cleaned_data = wine_data.drop(columns=['region_2'])\n",
    "cleaned_data = wine_data.dropna()\n",
    "\n",
    "cleaned_file_path = 'preprocessed_winemag-data.csv'\n",
    "cleaned_data.to_csv(cleaned_file_path, index=False)"
   ]
  }
 ],
 "metadata": {
  "language_info": {
   "name": "python"
  }
 },
 "nbformat": 4,
 "nbformat_minor": 2
}
