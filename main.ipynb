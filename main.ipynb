{
 "cells": [
  {
   "cell_type": "code",
   "execution_count": 17,
   "metadata": {},
   "outputs": [],
   "source": [
    "import pandas as pd\n",
    "import folium\n",
    "from pyproj import crs\n",
    "import geopandas as gpd\n",
    "import matplotlib.pyplot as plt\n",
    "import requests\n",
    "import time"
   ]
  },
  {
   "cell_type": "code",
   "execution_count": 6,
   "metadata": {},
   "outputs": [],
   "source": [
    "file_path = 'winemag-data-130k-v2.csv'\n",
    "wine_data = pd.read_csv(file_path)\n",
    "\n",
    "cleaned_data = wine_data.drop(columns=['region_1', 'region_2', 'taster_name', 'taster_twitter_handle'])\n",
    "cleaned_data = cleaned_data.dropna()\n",
    "\n",
    "cleaned_file_path = 'preprocessed_winemag-data.csv'\n",
    "cleaned_data.to_csv(cleaned_file_path, index=False)"
   ]
  },
  {
   "cell_type": "code",
   "execution_count": 22,
   "metadata": {},
   "outputs": [
    {
     "name": "stdout",
     "output_type": "stream",
     "text": [
      "41\n"
     ]
    }
   ],
   "source": [
    "preprocessed_file = \"preprocessed_winemag-data.csv\"\n",
    "preprocessed_data = pd.read_csv(preprocessed_file)\n",
    "total_provinces = preprocessed_data['country'].nunique()\n",
    "print(total_provinces)"
   ]
  },
  {
   "cell_type": "code",
   "execution_count": 19,
   "metadata": {},
   "outputs": [],
   "source": [
    "lausanne = [46.5197, 6.6323]\n",
    "my_map = folium.Map(location=lausanne, zoom_start=4, control_scale=True)"
   ]
  },
  {
   "cell_type": "code",
   "execution_count": 20,
   "metadata": {},
   "outputs": [
    {
     "data": {
      "text/html": [
       "<div style=\"width:100%;\"><div style=\"position:relative;width:100%;height:0;padding-bottom:60%;\"><span style=\"color:#565656\">Make this Notebook Trusted to load map: File -> Trust Notebook</span><iframe srcdoc=\"&lt;!DOCTYPE html&gt;\n",
       "&lt;html&gt;\n",
       "&lt;head&gt;\n",
       "    \n",
       "    &lt;meta http-equiv=&quot;content-type&quot; content=&quot;text/html; charset=UTF-8&quot; /&gt;\n",
       "    \n",
       "        &lt;script&gt;\n",
       "            L_NO_TOUCH = false;\n",
       "            L_DISABLE_3D = false;\n",
       "        &lt;/script&gt;\n",
       "    \n",
       "    &lt;style&gt;html, body {width: 100%;height: 100%;margin: 0;padding: 0;}&lt;/style&gt;\n",
       "    &lt;style&gt;#map {position:absolute;top:0;bottom:0;right:0;left:0;}&lt;/style&gt;\n",
       "    &lt;script src=&quot;https://cdn.jsdelivr.net/npm/leaflet@1.9.3/dist/leaflet.js&quot;&gt;&lt;/script&gt;\n",
       "    &lt;script src=&quot;https://code.jquery.com/jquery-3.7.1.min.js&quot;&gt;&lt;/script&gt;\n",
       "    &lt;script src=&quot;https://cdn.jsdelivr.net/npm/bootstrap@5.2.2/dist/js/bootstrap.bundle.min.js&quot;&gt;&lt;/script&gt;\n",
       "    &lt;script src=&quot;https://cdnjs.cloudflare.com/ajax/libs/Leaflet.awesome-markers/2.0.2/leaflet.awesome-markers.js&quot;&gt;&lt;/script&gt;\n",
       "    &lt;link rel=&quot;stylesheet&quot; href=&quot;https://cdn.jsdelivr.net/npm/leaflet@1.9.3/dist/leaflet.css&quot;/&gt;\n",
       "    &lt;link rel=&quot;stylesheet&quot; href=&quot;https://cdn.jsdelivr.net/npm/bootstrap@5.2.2/dist/css/bootstrap.min.css&quot;/&gt;\n",
       "    &lt;link rel=&quot;stylesheet&quot; href=&quot;https://netdna.bootstrapcdn.com/bootstrap/3.0.0/css/bootstrap.min.css&quot;/&gt;\n",
       "    &lt;link rel=&quot;stylesheet&quot; href=&quot;https://cdn.jsdelivr.net/npm/@fortawesome/fontawesome-free@6.2.0/css/all.min.css&quot;/&gt;\n",
       "    &lt;link rel=&quot;stylesheet&quot; href=&quot;https://cdnjs.cloudflare.com/ajax/libs/Leaflet.awesome-markers/2.0.2/leaflet.awesome-markers.css&quot;/&gt;\n",
       "    &lt;link rel=&quot;stylesheet&quot; href=&quot;https://cdn.jsdelivr.net/gh/python-visualization/folium/folium/templates/leaflet.awesome.rotate.min.css&quot;/&gt;\n",
       "    \n",
       "            &lt;meta name=&quot;viewport&quot; content=&quot;width=device-width,\n",
       "                initial-scale=1.0, maximum-scale=1.0, user-scalable=no&quot; /&gt;\n",
       "            &lt;style&gt;\n",
       "                #map_186ca43fbafe020c5707aa303b84ad9f {\n",
       "                    position: relative;\n",
       "                    width: 100.0%;\n",
       "                    height: 100.0%;\n",
       "                    left: 0.0%;\n",
       "                    top: 0.0%;\n",
       "                }\n",
       "                .leaflet-container { font-size: 1rem; }\n",
       "            &lt;/style&gt;\n",
       "        \n",
       "&lt;/head&gt;\n",
       "&lt;body&gt;\n",
       "    \n",
       "    \n",
       "            &lt;div class=&quot;folium-map&quot; id=&quot;map_186ca43fbafe020c5707aa303b84ad9f&quot; &gt;&lt;/div&gt;\n",
       "        \n",
       "&lt;/body&gt;\n",
       "&lt;script&gt;\n",
       "    \n",
       "    \n",
       "            var map_186ca43fbafe020c5707aa303b84ad9f = L.map(\n",
       "                &quot;map_186ca43fbafe020c5707aa303b84ad9f&quot;,\n",
       "                {\n",
       "                    center: [46.5197, 6.6323],\n",
       "                    crs: L.CRS.EPSG3857,\n",
       "                    zoom: 4,\n",
       "                    zoomControl: true,\n",
       "                    preferCanvas: false,\n",
       "                }\n",
       "            );\n",
       "            L.control.scale().addTo(map_186ca43fbafe020c5707aa303b84ad9f);\n",
       "\n",
       "            \n",
       "\n",
       "        \n",
       "    \n",
       "            var tile_layer_23f07a04f6839e27f6a32a2778875be0 = L.tileLayer(\n",
       "                &quot;https://tile.openstreetmap.org/{z}/{x}/{y}.png&quot;,\n",
       "                {&quot;attribution&quot;: &quot;\\u0026copy; \\u003ca href=\\&quot;https://www.openstreetmap.org/copyright\\&quot;\\u003eOpenStreetMap\\u003c/a\\u003e contributors&quot;, &quot;detectRetina&quot;: false, &quot;maxNativeZoom&quot;: 19, &quot;maxZoom&quot;: 19, &quot;minZoom&quot;: 0, &quot;noWrap&quot;: false, &quot;opacity&quot;: 1, &quot;subdomains&quot;: &quot;abc&quot;, &quot;tms&quot;: false}\n",
       "            );\n",
       "        \n",
       "    \n",
       "            tile_layer_23f07a04f6839e27f6a32a2778875be0.addTo(map_186ca43fbafe020c5707aa303b84ad9f);\n",
       "        \n",
       "&lt;/script&gt;\n",
       "&lt;/html&gt;\" style=\"position:absolute;width:100%;height:100%;left:0;top:0;border:none !important;\" allowfullscreen webkitallowfullscreen mozallowfullscreen></iframe></div></div>"
      ],
      "text/plain": [
       "<folium.folium.Map at 0x12c596a50>"
      ]
     },
     "execution_count": 20,
     "metadata": {},
     "output_type": "execute_result"
    }
   ],
   "source": [
    "my_map"
   ]
  },
  {
   "cell_type": "code",
   "execution_count": 21,
   "metadata": {},
   "outputs": [],
   "source": [
    "outfp = \"base_layer.html\"\n",
    "my_map.save(outfp)\n",
    "filtered_file = \"winery_data.csv\"\n",
    "filtered_data = pd.read_csv(filtered_file)\n",
    "filtered_data['province_country'] = filtered_data['province'] + '+' + filtered_data['country']\n",
    "filtered_data_path = 'winery_data.csv'\n",
    "filtered_data.to_csv(filtered_data_path, index=False)"
   ]
  },
  {
   "cell_type": "code",
   "execution_count": 16,
   "metadata": {},
   "outputs": [
    {
     "name": "stdout",
     "output_type": "stream",
     "text": [
      "324\n"
     ]
    }
   ],
   "source": [
    "total_provinces = filtered_data['province_country'].nunique()\n",
    "print(total_provinces)"
   ]
  },
  {
   "cell_type": "code",
   "execution_count": 14,
   "metadata": {},
   "outputs": [
    {
     "name": "stdout",
     "output_type": "stream",
     "text": [
      "[{'place_id': 285364073, 'licence': 'Data © OpenStreetMap contributors, ODbL 1.0. https://osm.org/copyright', 'osm_type': 'relation', 'osm_id': 165475, 'boundingbox': ['32.5295236', '42.009499', '-124.482003', '-114.1307816'], 'lat': '36.7014631', 'lon': '-118.755997', 'display_name': 'California, United States', 'class': 'boundary', 'type': 'administrative', 'importance': 0.9221363841577066}, {'place_id': 298700331, 'licence': 'Data © OpenStreetMap contributors, ODbL 1.0. https://osm.org/copyright', 'osm_type': 'relation', 'osm_id': 141178, 'boundingbox': ['38.616032', '38.645932', '-92.595475', '-92.524332'], 'lat': '38.628683', 'lon': '-92.5659635', 'display_name': 'California, Moniteau County, Missouri, 65018, United States', 'class': 'boundary', 'type': 'administrative', 'importance': 0.5231335668641502}, {'place_id': 275328038, 'licence': 'Data © OpenStreetMap contributors, ODbL 1.0. https://osm.org/copyright', 'osm_type': 'node', 'osm_id': 6977830482, 'boundingbox': ['13.4025234', '13.4825234', '-88.5018665', '-88.4218665'], 'lat': '13.4425234', 'lon': '-88.4618665', 'display_name': 'California, Departamento de Usulután, El Salvador', 'class': 'place', 'type': 'town', 'importance': 0.51001}, {'place_id': 301063518, 'licence': 'Data © OpenStreetMap contributors, ODbL 1.0. https://osm.org/copyright', 'osm_type': 'relation', 'osm_id': 130899, 'boundingbox': ['38.9113845', '38.9287702', '-84.2706544', '-84.252896'], 'lat': '38.9186766', 'lon': '-84.2635472', 'display_name': 'California, Campbell County, Kentucky, United States', 'class': 'boundary', 'type': 'administrative', 'importance': 0.5000059270586314}, {'place_id': 310333062, 'licence': 'Data © OpenStreetMap contributors, ODbL 1.0. https://osm.org/copyright', 'osm_type': 'relation', 'osm_id': 187252, 'boundingbox': ['40.026312', '40.105724', '-79.946938', '-79.8792678'], 'lat': '40.0657724', 'lon': '-79.8918436', 'display_name': 'California, Washington County, Pennsylvania, United States', 'class': 'boundary', 'type': 'administrative', 'importance': 0.4834383006371805}, {'place_id': 342137290, 'licence': 'Data © OpenStreetMap contributors, ODbL 1.0. https://osm.org/copyright', 'osm_type': 'node', 'osm_id': 158384239, 'boundingbox': ['38.2776295', '38.3176295', '-76.5281118', '-76.4881118'], 'lat': '38.2976295', 'lon': '-76.5081118', 'display_name': \"California, Lexington Park, Saint Mary's County, Maryland, 20619, United States\", 'class': 'place', 'type': 'village', 'importance': 0.41922699466609015}, {'place_id': 324446725, 'licence': 'Data © OpenStreetMap contributors, ODbL 1.0. https://osm.org/copyright', 'osm_type': 'node', 'osm_id': 158861430, 'boundingbox': ['47.0492088', '47.0892088', '-68.1258635', '-68.0858635'], 'lat': '47.0692088', 'lon': '-68.1058635', 'display_name': 'California, Aroostook County, Maine, United States', 'class': 'place', 'type': 'village', 'importance': 0.4136784669331538}, {'place_id': 330358265, 'licence': 'Data © OpenStreetMap contributors, ODbL 1.0. https://osm.org/copyright', 'osm_type': 'node', 'osm_id': 1130096180, 'boundingbox': ['41.91702', '41.92702', '-87.7019123', '-87.6919123'], 'lat': '41.92202', 'lon': '-87.6969123', 'display_name': 'California, 2211, North California Avenue, Palmer Square, Logan Square, Chicago, West Chicago Township, Cook County, Illinois, 60647, United States', 'class': 'railway', 'type': 'station', 'importance': 0.3956494679857989}, {'place_id': 330327983, 'licence': 'Data © OpenStreetMap contributors, ODbL 1.0. https://osm.org/copyright', 'osm_type': 'node', 'osm_id': 3211876637, 'boundingbox': ['41.8792639', '41.8892639', '-87.7014047', '-87.6914047'], 'lat': '41.8842639', 'lon': '-87.6964047', 'display_name': 'California, 2800, West Lake Street, East Garfield Park, Chicago, West Chicago Township, Cook County, Illinois, 60612, United States', 'class': 'railway', 'type': 'station', 'importance': 0.3919504140408089}, {'place_id': 300967669, 'licence': 'Data © OpenStreetMap contributors, ODbL 1.0. https://osm.org/copyright', 'osm_type': 'node', 'osm_id': 153926404, 'boundingbox': ['39.0452059', '39.0852059', '-84.4472386', '-84.4072386'], 'lat': '39.0652059', 'lon': '-84.4272386', 'display_name': 'California, Cincinnati, Hamilton County, Ohio, 45228, United States', 'class': 'place', 'type': 'suburb', 'importance': 0.38308187049262343}]\n",
      "36.7014631\n",
      "-118.755997\n"
     ]
    }
   ],
   "source": [
    "\n",
    "base_url = \"https://geocode.maps.co/search\"\n",
    "query_string = \"California+US\"\n",
    "api_key = \"6623e0c3016bc741318638ixybbbfbc\"\n",
    "\n",
    "full_url = f\"{base_url}?q={query_string}&api_key={api_key}\"\n",
    "response = requests.get(full_url)\n",
    "\n",
    "if response.status_code == 200:\n",
    "    data = response.json()\n",
    "    print(data)\n",
    "    latitude = data[0]['lat']\n",
    "    longitude = data[0]['lon']\n",
    "else:\n",
    "    print(f\"Failed to retrieve data: {response.status_code}\")"
   ]
  },
  {
   "cell_type": "code",
   "execution_count": 19,
   "metadata": {},
   "outputs": [
    {
     "name": "stdout",
     "output_type": "stream",
     "text": [
      "No results for Portuguese Table Wine+Portugal\n",
      "No results for Beira Atlantico+Portugal\n",
      "No results for Other+Argentina\n",
      "No results for Central Valley+Chile\n",
      "No results for Bío Bío Valley+Chile\n",
      "No results for Casablanca Valley+Chile\n",
      "No results for Lontué Valley+Chile\n",
      "No results for Italy Other+Italy\n",
      "No results for Rapel Valley+Chile\n",
      "No results for Curicó Valley+Chile\n",
      "No results for Leyda Valley+Chile\n",
      "No results for Maipo Valley+Chile\n",
      "No results for Spain Other+Spain\n",
      "No results for Aconcagua Valley+Chile\n",
      "No results for Thracian Valley+Bulgaria\n",
      "No results for Eilandia+South Africa\n",
      "No results for Danube River Plains+Bulgaria\n",
      "No results for Cachapoal Valley+Chile\n",
      "No results for Judean Hills+Israel\n",
      "No results for Itata Valley+Chile\n",
      "No results for Loncomilla Valley+Chile\n",
      "No results for Limarí Valley+Chile\n",
      "No results for Canada Other+Canada\n",
      "No results for Haut-Judeé+Israel\n",
      "No results for Thessalikos+Greece\n",
      "No results for Mosel-Saar-Ruwer+Germany\n",
      "No results for Dealurile Munteniei+Romania\n",
      "No results for Österreichischer Sekt+Austria\n",
      "No results for Pangeon+Greece\n",
      "No results for Commandaria+Cyprus\n",
      "No results for Leyda Valley-Maipo Valley+Chile\n",
      "No results for Atalanti Valley+Greece\n",
      "No results for Terras do Sado+Portugal\n",
      "No results for Slovenska Istra+Slovenia\n",
      "No results for Vin de Pays de Velvendo+Greece\n",
      "No results for Breedekloof+South Africa\n",
      "No results for Mavrodaphne of Patras+Greece\n",
      "No results for Österreichischer Perlwein+Austria\n",
      "No results for Vinho Espumante de Qualidade+Portugal\n",
      "No results for Beiras+Portugal\n",
      "No results for Dealurile Hușilor+Romania\n",
      "No results for Polkadraai Hills+South Africa\n",
      "No results for Black Sea Coastal+Bulgaria\n",
      "No results for Pitsilia Mountains+Cyprus\n",
      "No results for Dalmatian Coast+Croatia\n",
      "No results for Wiener Gemischter Satz+Austria\n",
      "No results for Vinho Espumante+Portugal\n",
      "No results for Ella Valley+Israel\n"
     ]
    }
   ],
   "source": [
    "base_url = \"https://geocode.maps.co/search\"\n",
    "api_key = \"6623e0c3016bc741318638ixybbbfbc\"\n",
    "\n",
    "filtered_data['lat'] = None\n",
    "filtered_data['lon'] = None\n",
    "\n",
    "unique_locations = filtered_data['province_country'].unique()\n",
    "\n",
    "location_dict = {}\n",
    "\n",
    "for location in unique_locations:\n",
    "    full_url = f\"{base_url}?q={location}&api_key={api_key}\"\n",
    "\n",
    "    response = requests.get(full_url)\n",
    "    time.sleep(1) \n",
    "\n",
    "    if response.status_code == 200:\n",
    "        data = response.json()\n",
    "        if data:\n",
    "            latitude = data[0]['lat']\n",
    "            longitude = data[0]['lon']\n",
    "            location_dict[location] = (latitude, longitude)\n",
    "        else:\n",
    "            print(f\"No results for {location}\")\n",
    "    else:\n",
    "        print(f\"Failed to retrieve data for {location}: {response.status_code}\")\n",
    "\n",
    "\n",
    "for index, row in filtered_data.iterrows():\n",
    "    location = row['province_country']\n",
    "    if location in location_dict:\n",
    "        filtered_data.at[index, 'lat'] = location_dict[location][0]\n",
    "        filtered_data.at[index, 'lon'] = location_dict[location][1]\n",
    "\n",
    "filtered_data_path = 'winery_data.csv'\n",
    "filtered_data.to_csv(filtered_data_path, index=False)\n",
    "\n"
   ]
  },
  {
   "cell_type": "code",
   "execution_count": 24,
   "metadata": {},
   "outputs": [
    {
     "name": "stdout",
     "output_type": "stream",
     "text": [
      "0\n"
     ]
    }
   ],
   "source": [
    "empty_lat_lon_count = filtered_data[filtered_data['lat'].isna() | filtered_data['lon'].isna()].shape[0]\n",
    "print(empty_lat_lon_count)"
   ]
  },
  {
   "cell_type": "code",
   "execution_count": 21,
   "metadata": {},
   "outputs": [],
   "source": [
    "filtered_data = filtered_data.dropna(subset=['lat', 'lon'])"
   ]
  },
  {
   "cell_type": "code",
   "execution_count": 23,
   "metadata": {},
   "outputs": [],
   "source": [
    "filtered_data_path = 'winery_data.csv'\n",
    "filtered_data.to_csv(filtered_data_path, index=False)"
   ]
  },
  {
   "cell_type": "code",
   "execution_count": null,
   "metadata": {},
   "outputs": [],
   "source": [
    "lausanne = [46.5197, 6.6323]\n",
    "my_map = folium.Map(location=lausanne, zoom_start=4, control_scale=True)"
   ]
  },
  {
   "cell_type": "code",
   "execution_count": 3,
   "metadata": {},
   "outputs": [],
   "source": [
    "import folium\n",
    "import pandas as pd\n",
    "from folium.plugins import MarkerCluster\n",
    "import numpy as np\n",
    "\n",
    "filtered_data = pd.read_csv('winery_data.csv')\n",
    "winery_data = filtered_data\n",
    "\n",
    "def add_random_noise(lat, lon, radius_km=1):\n",
    "    degree_change = radius_km / 111  \n",
    "    new_lat = lat + np.random.uniform(-degree_change, degree_change)\n",
    "    new_lon = lon + np.random.uniform(-degree_change, degree_change)\n",
    "    return new_lat, new_lon\n",
    "\n",
    "lausanne = [46.5197, 6.6323]\n",
    "map = folium.Map(location=lausanne, zoom_start=6)\n",
    "\n",
    "marker_cluster = MarkerCluster().add_to(map)\n",
    "used_coords = set()\n",
    "\n",
    "for idx, row in winery_data.iterrows():\n",
    "    lat, lon = row['lat'], row['lon']\n",
    "\n",
    "    while (lat, lon) in used_coords:\n",
    "        lat, lon = add_random_noise(float(lat), float(lon))\n",
    "    \n",
    "    used_coords.add((lat, lon))\n",
    "    \n",
    "    popup_message = folium.Popup(f\"<b>Winery:</b> {row['winery']}<br>\"\n",
    "                                 f\"<b>Mean winery score:</b> {row['mean']}<br>\"\n",
    "                                 f\"<b>Higher ranked wine score:</b> {row['max']}<br>\"\n",
    "                                 f\"<b>Higher ranked wine:</b> {row['title']}<br>\"\n",
    "                                 f\"<b>Higher ranked price in dollars:</b> {row['price']}<br>\"\n",
    "                                 f\"<b>Wine variety:</b> {row['variety']}\", \n",
    "                                 max_width=300)\n",
    "    \n",
    "    folium.Marker(\n",
    "        location=[lat, lon],\n",
    "        popup=popup_message\n",
    "    ).add_to(marker_cluster)\n",
    "\n",
    "map.save('winery_map_no_overlap_1km.html')\n"
   ]
  }
 ],
 "metadata": {
  "kernelspec": {
   "display_name": "Python 3",
   "language": "python",
   "name": "python3"
  },
  "language_info": {
   "codemirror_mode": {
    "name": "ipython",
    "version": 3
   },
   "file_extension": ".py",
   "mimetype": "text/x-python",
   "name": "python",
   "nbconvert_exporter": "python",
   "pygments_lexer": "ipython3",
   "version": "3.11.4"
  }
 },
 "nbformat": 4,
 "nbformat_minor": 2
}
